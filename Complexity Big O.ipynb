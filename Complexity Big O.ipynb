{
 "cells": [
  {
   "cell_type": "markdown",
   "id": "87af8d20",
   "metadata": {},
   "source": [
    "# Complexity O(n)\n",
    "    time = a*n +b\n",
    "    \n",
    "    a and b is constants so the time wille grow lineary"
   ]
  },
  {
   "cell_type": "code",
   "execution_count": 2,
   "id": "540eeac0",
   "metadata": {},
   "outputs": [
    {
     "data": {
      "text/plain": [
       "[4, 16, 25, 49, 81]"
      ]
     },
     "execution_count": 2,
     "metadata": {},
     "output_type": "execute_result"
    }
   ],
   "source": [
    "# Squared numbers\n",
    "\n",
    "def square_number(numbers):\n",
    "    square_num = []\n",
    "    for n in numbers:\n",
    "        square_num.append(n*n)\n",
    "    return square_num\n",
    "numbers = [2,4,5,7,9]\n",
    "square_number(numbers)\n",
    "# the time will grow lineary"
   ]
  },
  {
   "cell_type": "markdown",
   "id": "83fecc1e",
   "metadata": {},
   "source": [
    "# Complexity O(1)\n",
    "    time = a\n",
    "    \n",
    "    the time will be constant"
   ]
  },
  {
   "cell_type": "code",
   "execution_count": null,
   "id": "71ec7be2",
   "metadata": {},
   "outputs": [],
   "source": [
    "# example\n",
    "def find_first_price(prices, eps, index):\n",
    "    pe = prices[index]/eps[index]\n",
    "    return pe\n",
    "find_first_price()"
   ]
  },
  {
   "cell_type": "markdown",
   "id": "0017317c",
   "metadata": {},
   "source": [
    "# Coplexity O(n**2)\n",
    "    Duplicate number\n",
    "    time = a* n**2 +b\n",
    "     will be parabolic"
   ]
  },
  {
   "cell_type": "code",
   "execution_count": 5,
   "id": "2c8980e9",
   "metadata": {},
   "outputs": [
    {
     "name": "stdout",
     "output_type": "stream",
     "text": [
      "3 is a duplicate\n",
      "6 is a duplicate\n"
     ]
    }
   ],
   "source": [
    "numbers = [3, 6, 2, 4, 3, 6, 8, 9]\n",
    "for i  in range(len(numbers)):\n",
    "    for j in range(i+1, len(numbers)):\n",
    "        if numbers[i] == numbers[j]:\n",
    "            print(str(numbers[i]) + \" is a duplicate\")\n",
    "            break"
   ]
  },
  {
   "cell_type": "code",
   "execution_count": 6,
   "id": "1c49b680",
   "metadata": {},
   "outputs": [
    {
     "name": "stdout",
     "output_type": "stream",
     "text": [
      "1\n",
      "5\n"
     ]
    }
   ],
   "source": [
    " # for time = a * n**2 +b* n + c   \n",
    "numbers = [3, 6, 2, 4, 3, 6, 8, 9]\n",
    "for i  in range(len(numbers)):\n",
    "    for j in range(i+1, len(numbers)): # n**2 iteration\n",
    "        if numbers[i] == numbers[j]:\n",
    "            duplicate = numbers[i]\n",
    "            #print(str(numbers[i]) + \" is a duplicate\")\n",
    "            break\n",
    "for i in range(len(numbers)):  # n iteration\n",
    "    if numbers[i] == duplicate :\n",
    "        print(i)"
   ]
  },
  {
   "cell_type": "markdown",
   "id": "ce52b4bf",
   "metadata": {},
   "source": [
    "#  Space Complexity"
   ]
  },
  {
   "cell_type": "code",
   "execution_count": 9,
   "id": "cfd1a7c3",
   "metadata": {},
   "outputs": [
    {
     "name": "stdout",
     "output_type": "stream",
     "text": [
      "6\n"
     ]
    }
   ],
   "source": [
    "#example  search number 68\n",
    "numbers = [4,9,15,21,34,57,68,91]\n",
    "# first we juste used for loop to iterate on a list\n",
    "\n",
    "for i in range(len(numbers)):\n",
    "    if numbers[i] ==68:\n",
    "        print(i)\n",
    "# but this code is not efficience for running time\n"
   ]
  },
  {
   "cell_type": "code",
   "execution_count": 10,
   "id": "bd6c34fc",
   "metadata": {},
   "outputs": [],
   "source": [
    "# we can use binary search with iteration k = (n/2**k)"
   ]
  },
  {
   "cell_type": "code",
   "execution_count": null,
   "id": "2b1e448b",
   "metadata": {},
   "outputs": [],
   "source": []
  }
 ],
 "metadata": {
  "kernelspec": {
   "display_name": "Python 3",
   "language": "python",
   "name": "python3"
  },
  "language_info": {
   "codemirror_mode": {
    "name": "ipython",
    "version": 3
   },
   "file_extension": ".py",
   "mimetype": "text/x-python",
   "name": "python",
   "nbconvert_exporter": "python",
   "pygments_lexer": "ipython3",
   "version": "3.8.8"
  }
 },
 "nbformat": 4,
 "nbformat_minor": 5
}
