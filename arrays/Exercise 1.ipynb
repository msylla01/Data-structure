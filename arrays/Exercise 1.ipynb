{
 "cells": [
  {
   "cell_type": "markdown",
   "id": "b31c8c25",
   "metadata": {},
   "source": [
    "# Exercise: Array DataStructure\n",
    "    \n",
    "    1. Let us say your expense for every month are listed below,\n",
    "        January - 2200\n",
    "        February - 2350\n",
    "        March - 2600\n",
    "        April - 2130\n",
    "        May - 2190\n",
    "        \n",
    "    Create a list to store these monthly expenses and using that find out,\n",
    "\n",
    "        1. In Feb, how many dollars you spent extra compare to January?\n",
    "        2. Find out your total expense in first quarter (first three months) of the year.\n",
    "        3. Find out if you spent exactly 2000 dollars in any month\n",
    "        4. June month just finished and your expense is 1980 dollar. Add this item to our monthly expense list\n",
    "        5. You returned an item that you bought in a month of April and\n",
    "        got a refund of 200$. Make a correction to your monthly expense list\n",
    "        based on this"
   ]
  },
  {
   "cell_type": "code",
   "execution_count": 1,
   "id": "f7c01caf",
   "metadata": {},
   "outputs": [],
   "source": [
    "store_month = [2200,2350,2600,2130,2190]"
   ]
  },
  {
   "cell_type": "code",
   "execution_count": 2,
   "id": "621df5db",
   "metadata": {},
   "outputs": [
    {
     "data": {
      "text/plain": [
       "150"
      ]
     },
     "execution_count": 2,
     "metadata": {},
     "output_type": "execute_result"
    }
   ],
   "source": [
    "# 1. In Feb, how many dollars you spent extra compare to January?\n",
    "store_month[1] - store_month[0]"
   ]
  },
  {
   "cell_type": "code",
   "execution_count": 3,
   "id": "aad9d479",
   "metadata": {},
   "outputs": [
    {
     "name": "stdout",
     "output_type": "stream",
     "text": [
      "In feb this much extra was spent compared to jan: 150\n"
     ]
    }
   ],
   "source": [
    "print(\"In feb this much extra was spent compared to jan:\",store_month[1]-store_month[0]) "
   ]
  },
  {
   "cell_type": "code",
   "execution_count": 4,
   "id": "f0f0432e",
   "metadata": {},
   "outputs": [
    {
     "data": {
      "text/plain": [
       "7150"
      ]
     },
     "execution_count": 4,
     "metadata": {},
     "output_type": "execute_result"
    }
   ],
   "source": [
    "#2. Find out your total expense in first quarter (first three months) of the year.\n",
    "three_sum = 0\n",
    "for i in range(3):\n",
    "    three_sum = three_sum + store_month[i]\n",
    "three_sum"
   ]
  },
  {
   "cell_type": "code",
   "execution_count": 5,
   "id": "8390e5e2",
   "metadata": {},
   "outputs": [
    {
     "name": "stdout",
     "output_type": "stream",
     "text": [
      "Expense for first quarter: 7150\n"
     ]
    }
   ],
   "source": [
    "# or \n",
    "print(\"Expense for first quarter:\",store_month[0]+store_month[1]+store_month[2]) "
   ]
  },
  {
   "cell_type": "code",
   "execution_count": 7,
   "id": "bcf3d789",
   "metadata": {},
   "outputs": [
    {
     "name": "stdout",
     "output_type": "stream",
     "text": [
      "Did I spent 2000$ in any month?  False\n"
     ]
    }
   ],
   "source": [
    "# 3. Find out if you spent exactly 2000 dollars in any month\n",
    "print(\"Did I spent 2000$ in any month? \", 2000 in store_month) "
   ]
  },
  {
   "cell_type": "code",
   "execution_count": null,
   "id": "45544134",
   "metadata": {},
   "outputs": [],
   "source": [
    "# 4. June month just finished and your expense is 1980 dollar. Add this item to our monthly expense list\n",
    "store_month.insert(len(store_month)+1,1980)\n",
    "# Or \n",
    "\n",
    "store_month.append(1980)\n",
    "print(\"Expenses at the end of June:\",store_month)"
   ]
  },
  {
   "cell_type": "code",
   "execution_count": 9,
   "id": "725a8a91",
   "metadata": {},
   "outputs": [
    {
     "data": {
      "text/plain": [
       "[2200, 2350, 2600, 1930, 2190, 1980, 1980]"
      ]
     },
     "execution_count": 9,
     "metadata": {},
     "output_type": "execute_result"
    }
   ],
   "source": [
    "# 5. You returned an item that you bought in a month of April and got a refund of 200$. Make a correction to your monthly expense listbased on this\n",
    "store_month[3] = store_month[3]-200\n",
    "store_month"
   ]
  },
  {
   "cell_type": "code",
   "execution_count": null,
   "id": "9053eac7",
   "metadata": {},
   "outputs": [],
   "source": []
  }
 ],
 "metadata": {
  "kernelspec": {
   "display_name": "Python 3",
   "language": "python",
   "name": "python3"
  },
  "language_info": {
   "codemirror_mode": {
    "name": "ipython",
    "version": 3
   },
   "file_extension": ".py",
   "mimetype": "text/x-python",
   "name": "python",
   "nbconvert_exporter": "python",
   "pygments_lexer": "ipython3",
   "version": "3.8.8"
  }
 },
 "nbformat": 4,
 "nbformat_minor": 5
}
