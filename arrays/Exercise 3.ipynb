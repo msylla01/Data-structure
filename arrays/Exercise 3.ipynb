{
 "cells": [
  {
   "cell_type": "markdown",
   "id": "8485af3f",
   "metadata": {},
   "source": [
    "# Create a list of all odd numbers between 1 and a max number. Max number is something you need to take from a user using input() function"
   ]
  },
  {
   "cell_type": "code",
   "execution_count": 2,
   "id": "6efba6e1",
   "metadata": {},
   "outputs": [
    {
     "name": "stdout",
     "output_type": "stream",
     "text": [
      "enter the max number15\n",
      "Odd number [1, 3, 5, 7, 9, 11, 13]\n"
     ]
    }
   ],
   "source": [
    "max_num = int(input(\"enter the max number\"))\n",
    "list_odd = []\n",
    "for i in range(max_num):\n",
    "    if i%2 ==1:\n",
    "        list_odd.append(i)\n",
    "print(\"Odd number\",list_odd)\n"
   ]
  },
  {
   "cell_type": "code",
   "execution_count": null,
   "id": "a06a5669",
   "metadata": {},
   "outputs": [],
   "source": []
  }
 ],
 "metadata": {
  "kernelspec": {
   "display_name": "Python 3",
   "language": "python",
   "name": "python3"
  },
  "language_info": {
   "codemirror_mode": {
    "name": "ipython",
    "version": 3
   },
   "file_extension": ".py",
   "mimetype": "text/x-python",
   "name": "python",
   "nbconvert_exporter": "python",
   "pygments_lexer": "ipython3",
   "version": "3.8.8"
  }
 },
 "nbformat": 4,
 "nbformat_minor": 5
}
