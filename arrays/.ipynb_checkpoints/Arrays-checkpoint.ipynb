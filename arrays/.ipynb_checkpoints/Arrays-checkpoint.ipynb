{
 "cells": [
  {
   "cell_type": "markdown",
   "id": "dcb8daa9",
   "metadata": {},
   "source": [
    "# Arrays\n",
    "    Store apple's price for 5 days and answer,\n",
    "        1. what was the price on day 1?\n",
    "        2. what was the price on day 3?\n",
    "        \n",
    "        [298 -> 0x00500\n",
    "        , 305, ->0x00504\n",
    "        320,-> 0x00508\n",
    "        301, -> 0x0050A\n",
    "        292 -> 0x0050F\n",
    "        ]"
   ]
  },
  {
   "cell_type": "code",
   "execution_count": 7,
   "id": "9b3a2d48",
   "metadata": {},
   "outputs": [
    {
     "name": "stdout",
     "output_type": "stream",
     "text": [
      "298 320\n"
     ]
    }
   ],
   "source": [
    "stock_price = [298, 305, 320, 301, 292]\n",
    "\n",
    "print(stock_price[0], stock_price[2])"
   ]
  },
  {
   "cell_type": "markdown",
   "id": "c1cd00f3",
   "metadata": {},
   "source": [
    "for stock_price[0] -> 0x00500 for example\n",
    "\n",
    "for stock_price[2] -> 0x00500 +2*sizeof(integer)\n",
    "\n",
    "stock_price[2]  -> 0x00500 +2*4\n",
    "\n",
    "stock_price[2]  -> 0x005008 \n",
    "\n",
    "So compexity O(1)"
   ]
  },
  {
   "cell_type": "code",
   "execution_count": 3,
   "id": "da07b54d",
   "metadata": {},
   "outputs": [
    {
     "name": "stdout",
     "output_type": "stream",
     "text": [
      "298\n",
      "305\n",
      "320\n",
      "301\n",
      "292\n"
     ]
    }
   ],
   "source": [
    "for  i in stock_price:\n",
    "    print(i) # O(2)"
   ]
  },
  {
   "cell_type": "code",
   "execution_count": 4,
   "id": "75c8ebd3",
   "metadata": {},
   "outputs": [
    {
     "name": "stdout",
     "output_type": "stream",
     "text": [
      "3\n"
     ]
    }
   ],
   "source": [
    " for i in range(len(stock_price)): # O(n)\n",
    "        if stock_price[i] == 301:\n",
    "            print(i)"
   ]
  },
  {
   "cell_type": "code",
   "execution_count": 8,
   "id": "0b18281d",
   "metadata": {},
   "outputs": [
    {
     "data": {
      "text/plain": [
       "[298, 284, 305, 320, 301, 292]"
      ]
     },
     "execution_count": 8,
     "metadata": {},
     "output_type": "execute_result"
    }
   ],
   "source": [
    "stock_price.insert(1,284) # O(n)\n",
    "stock_price"
   ]
  },
  {
   "cell_type": "code",
   "execution_count": 12,
   "id": "f02d216e",
   "metadata": {},
   "outputs": [],
   "source": [
    " # delete\n",
    "stock_price.remove(284) # O(n)"
   ]
  },
  {
   "cell_type": "code",
   "execution_count": 13,
   "id": "e5ee3c75",
   "metadata": {},
   "outputs": [
    {
     "data": {
      "text/plain": [
       "[298, 305, 320, 301, 292]"
      ]
     },
     "execution_count": 13,
     "metadata": {},
     "output_type": "execute_result"
    }
   ],
   "source": [
    "stock_price"
   ]
  },
  {
   "cell_type": "markdown",
   "id": "a344235e",
   "metadata": {},
   "source": []
  },
  {
   "cell_type": "code",
   "execution_count": 32,
   "id": "20cca267",
   "metadata": {},
   "outputs": [],
   "source": []
  },
  {
   "cell_type": "code",
   "execution_count": 33,
   "id": "8200141c",
   "metadata": {
    "scrolled": true
   },
   "outputs": [
    {
     "data": {
      "text/plain": [
       "[2200, 2350, 2600, 2130, 2190]"
      ]
     },
     "execution_count": 33,
     "metadata": {},
     "output_type": "execute_result"
    }
   ],
   "source": [
    "store_month"
   ]
  },
  {
   "cell_type": "code",
   "execution_count": 43,
   "id": "7c100d05",
   "metadata": {},
   "outputs": [
    {
     "data": {
      "text/plain": [
       "150"
      ]
     },
     "execution_count": 43,
     "metadata": {},
     "output_type": "execute_result"
    }
   ],
   "source": []
  },
  {
   "cell_type": "code",
   "execution_count": 44,
   "id": "f2be2f73",
   "metadata": {},
   "outputs": [
    {
     "name": "stdout",
     "output_type": "stream",
     "text": [
      "In feb this much extra was spent compared to jan: 150\n"
     ]
    }
   ],
   "source": [
    "print(\"In feb this much extra was spent compared to jan:\",store_month[1]-store_month[0]) "
   ]
  },
  {
   "cell_type": "code",
   "execution_count": 35,
   "id": "d345d03b",
   "metadata": {},
   "outputs": [
    {
     "data": {
      "text/plain": [
       "7150"
      ]
     },
     "execution_count": 35,
     "metadata": {},
     "output_type": "execute_result"
    }
   ],
   "source": [
    "#2. Find out your total expense in first quarter (first three months) of the year.\n",
    "three_sum = 0\n",
    "for i in range(3):\n",
    "    three_sum = three_sum + store_month[i]\n",
    "three_sum"
   ]
  },
  {
   "cell_type": "code",
   "execution_count": 42,
   "id": "497adadb",
   "metadata": {},
   "outputs": [
    {
     "name": "stdout",
     "output_type": "stream",
     "text": [
      "Expense for first quarter: 7150\n"
     ]
    }
   ],
   "source": [
    "# or \n",
    "print(\"Expense for first quarter:\",store_month[0]+store_month[1]+store_month[2]) "
   ]
  },
  {
   "cell_type": "code",
   "execution_count": 36,
   "id": "ed8a0884",
   "metadata": {},
   "outputs": [],
   "source": [
    "# 3. Find out if you spent exactly 2000 dollars in any month\n",
    "for i in range( len(store_month)):\n",
    "    if store_month[i] == 2000:\n",
    "        print(i)"
   ]
  },
  {
   "cell_type": "code",
   "execution_count": 41,
   "id": "eba6d07a",
   "metadata": {},
   "outputs": [
    {
     "name": "stdout",
     "output_type": "stream",
     "text": [
      "Did I spent 2000$ in any month?  False\n"
     ]
    }
   ],
   "source": [
    "# Or \n",
    "print(\"Did I spent 2000$ in any month? \", 2000 in store_month) "
   ]
  },
  {
   "cell_type": "code",
   "execution_count": 37,
   "id": "204565cf",
   "metadata": {},
   "outputs": [],
   "source": [
    "# 4. June month just finished and your expense is 1980 dollar. Add this item to our monthly expense list\n",
    "store_month.insert(len(store_month)+1,1980)\n",
    "# Or \n",
    "\n",
    "store_month.append(1980)\n",
    "print(\"Expenses at the end of June:\",exp) "
   ]
  },
  {
   "cell_type": "code",
   "execution_count": 38,
   "id": "9fce8a99",
   "metadata": {},
   "outputs": [
    {
     "data": {
      "text/plain": [
       "[2200, 2350, 2600, 2130, 2190, 1980]"
      ]
     },
     "execution_count": 38,
     "metadata": {},
     "output_type": "execute_result"
    }
   ],
   "source": [
    "store_month"
   ]
  },
  {
   "cell_type": "code",
   "execution_count": 40,
   "id": "b7677045",
   "metadata": {},
   "outputs": [
    {
     "data": {
      "text/plain": [
       "[2200, 2350, 2600, 1930, 2190, 1980]"
      ]
     },
     "execution_count": 40,
     "metadata": {},
     "output_type": "execute_result"
    }
   ],
   "source": [
    "# 5. You returned an item that you bought in a month of April and got a refund of 200$. Make a correction to your monthly expense listbased on this\n",
    "store_month[3] = store_month[3]-200\n",
    "store_month"
   ]
  },
  {
   "cell_type": "code",
   "execution_count": null,
   "id": "62190a8f",
   "metadata": {},
   "outputs": [],
   "source": []
  },
  {
   "cell_type": "markdown",
   "id": "4e7311d6",
   "metadata": {},
   "source": [
    "# You have a list of your favourite marvel super heros.\n",
    "\n",
    "    heros=['spider man','thor','hulk','iron man','captain america']\n",
    "    \n",
    "    Using this find out,\n",
    "\n",
    "1. Length of the list\n",
    "2. Add 'black panther' at the end of this list\n",
    "3. You realize that you need to add 'black panther' after 'hulk',\n",
    "   so remove it from the list first and then add it after 'hulk'\n",
    "4. Now you don't like thor and hulk because they get angry easily :)\n",
    "   So you want to remove thor and hulk from list and replace them with doctor strange (because he is cool).\n",
    "   Do that with one line of code.\n",
    "5. Sort the heros list in alphabetical order (Hint. Use dir() functions to list down all functions available in list)"
   ]
  },
  {
   "cell_type": "code",
   "execution_count": 45,
   "id": "107735bf",
   "metadata": {},
   "outputs": [],
   "source": [
    "heros=['spider man','thor','hulk','iron man','captain america']\n"
   ]
  },
  {
   "cell_type": "code",
   "execution_count": 46,
   "id": "f9dd1885",
   "metadata": {},
   "outputs": [
    {
     "data": {
      "text/plain": [
       "5"
      ]
     },
     "execution_count": 46,
     "metadata": {},
     "output_type": "execute_result"
    }
   ],
   "source": [
    "# Length of the list\n",
    "len(heros)"
   ]
  },
  {
   "cell_type": "code",
   "execution_count": null,
   "id": "49689df1",
   "metadata": {},
   "outputs": [],
   "source": []
  }
 ],
 "metadata": {
  "kernelspec": {
   "display_name": "Python 3",
   "language": "python",
   "name": "python3"
  },
  "language_info": {
   "codemirror_mode": {
    "name": "ipython",
    "version": 3
   },
   "file_extension": ".py",
   "mimetype": "text/x-python",
   "name": "python",
   "nbconvert_exporter": "python",
   "pygments_lexer": "ipython3",
   "version": "3.8.8"
  }
 },
 "nbformat": 4,
 "nbformat_minor": 5
}
