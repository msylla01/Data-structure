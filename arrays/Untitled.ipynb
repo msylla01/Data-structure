{
 "cells": [
  {
   "cell_type": "markdown",
   "id": "8d031c22",
   "metadata": {},
   "source": [
    "# Create a list of all odd numbers between 1 and a max number. Max number is something you need to take from a user using input() function"
   ]
  },
  {
   "cell_type": "code",
   "execution_count": null,
   "id": "f4625f50",
   "metadata": {},
   "outputs": [],
   "source": [
    "max_num = int(input(\"enter the max number\"))\n",
    "list_odd = []\n",
    "for i in range(max_num):\n",
    "    if i%2 ==0:\n",
    "        list_odd.append(i)\n",
    "print(list)\n"
   ]
  }
 ],
 "metadata": {
  "kernelspec": {
   "display_name": "Python 3",
   "language": "python",
   "name": "python3"
  },
  "language_info": {
   "codemirror_mode": {
    "name": "ipython",
    "version": 3
   },
   "file_extension": ".py",
   "mimetype": "text/x-python",
   "name": "python",
   "nbconvert_exporter": "python",
   "pygments_lexer": "ipython3",
   "version": "3.8.8"
  }
 },
 "nbformat": 4,
 "nbformat_minor": 5
}
